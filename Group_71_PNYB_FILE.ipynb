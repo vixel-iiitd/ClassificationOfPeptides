{
  "nbformat": 4,
  "nbformat_minor": 0,
  "metadata": {
    "colab": {
      "name": "Assignment2.ipynb",
      "provenance": [],
      "collapsed_sections": []
    },
    "kernelspec": {
      "name": "python3",
      "display_name": "Python 3"
    },
    "language_info": {
      "name": "python"
    }
  },
  "cells": [
    {
      "cell_type": "markdown",
      "metadata": {
        "id": "B9xmZUUaIhc-"
      },
      "source": [
        "###MLBA\n"
      ]
    },
    {
      "cell_type": "code",
      "metadata": {
        "id": "9KDOpG6IUyaq"
      },
      "source": [
        "import pandas as pd\n",
        "import numpy as np"
      ],
      "execution_count": null,
      "outputs": []
    },
    {
      "cell_type": "code",
      "metadata": {
        "id": "ucOZkkk3U2jY"
      },
      "source": [
        "train_data = pd.read_csv('train_data.csv')\n",
        "test_data = pd.read_csv('test_data.csv')"
      ],
      "execution_count": null,
      "outputs": []
    },
    {
      "cell_type": "code",
      "metadata": {
        "id": "Ouai80pIF_V5"
      },
      "source": [
        "train_two = []\n",
        "cur =0\n",
        "for i in range(train_data.shape[0]):\n",
        "  z  = len(train_data.iloc[i][0])\n",
        "  x =0\n",
        "  for j in range(z):\n",
        "    y = (ord(train_data.iloc[i][0][j])-65)\n",
        "    if((y<0 or y>25)==True):\n",
        "      x=1\n",
        "      break\n",
        "  if(x==0):\n",
        "    train_two.append(train_data.iloc[i])\n",
        "    cur+=1\n",
        "\n",
        "\n",
        "train_two = pd.DataFrame(train_two)\n",
        "train_data = train_two"
      ],
      "execution_count": null,
      "outputs": []
    },
    {
      "cell_type": "code",
      "metadata": {
        "id": "iwNYmqE6IuZe"
      },
      "source": [
        "train_label = train_data[' Label']"
      ],
      "execution_count": null,
      "outputs": []
    },
    {
      "cell_type": "code",
      "metadata": {
        "id": "s9umoYnzlR7U"
      },
      "source": [
        "train_feature20 = []\n",
        "test_feature20=[]\n",
        "\n",
        "\n",
        "for i in range(train_data.shape[0]):\n",
        "  x = []\n",
        "  for j in range(26):\n",
        "    x.append(0)\n",
        "  z = len(train_data.iloc[i][0])\n",
        "  for j in range(z):\n",
        "    y = (ord(train_data.iloc[i][0][j])-65)\n",
        "    x[y]=x[y]+1\n",
        "\n",
        "  for j in range(26):\n",
        "    x[j]=x[j]/z\n",
        "  \n",
        "  \n",
        "  train_feature20.append(x)\n",
        "\n",
        "\n",
        "for i in range(test_data.shape[0]):\n",
        "  x = []\n",
        "  for j in range(26):\n",
        "    x.append(0)\n",
        "  z = len(test_data.iloc[i][1])\n",
        "  for j in range(z):\n",
        "    y = (ord(test_data.iloc[i][1][j])-65)\n",
        "    x[y]=x[y]+1\n",
        "  for j in range(26):\n",
        "    x[j]=x[j]/z\n",
        "  \n",
        "  test_feature20.append(x)\n",
        "\n",
        "\n",
        "test_feature20 = pd.DataFrame(test_feature20)\n",
        "train_feature20 = pd.DataFrame(train_feature20)"
      ],
      "execution_count": null,
      "outputs": []
    },
    {
      "cell_type": "code",
      "metadata": {
        "id": "fPDKmxynlyik"
      },
      "source": [
        "test_feature2020 = []\n",
        "test_feature2020 = pd.DataFrame(test_feature2020)\n",
        "train_feature2020 = []\n",
        "train_feature2020 = pd.DataFrame(train_feature2020)\n",
        "\n",
        "test_feature2020 = test_feature20[0]\n",
        "train_feature2020 = train_feature20[0]\n",
        "\n",
        "for i in range(1,26):\n",
        "  if(i!=1 and i!=23 and i!=25 and i!=(ord('J')-65) and i!=(ord('O')-65) and i!=(ord('U')-65)):\n",
        "    test_feature2020 = pd.concat([test_feature2020,test_feature20[i]],axis=1)\n",
        "    train_feature2020 = pd.concat([train_feature2020,train_feature20[i]],axis=1)\n"
      ],
      "execution_count": null,
      "outputs": []
    },
    {
      "cell_type": "code",
      "metadata": {
        "id": "QewOuYaWgEG5"
      },
      "source": [
        "arr = []\n",
        "notar = ['B','X','Z','O','J','U']\n",
        "\n",
        "notadd = []\n",
        "\n",
        "posa =[]\n",
        "for i in range(26):\n",
        "  for j in range(6):\n",
        "    notadd.append(i*26+(ord(notar[j])-65))\n",
        "    notadd.append((ord(notar[j])-65)*26+i)\n"
      ],
      "execution_count": null,
      "outputs": []
    },
    {
      "cell_type": "code",
      "metadata": {
        "id": "wBJRv4pWgs4I"
      },
      "source": [
        "notadd"
      ],
      "execution_count": null,
      "outputs": []
    },
    {
      "cell_type": "code",
      "metadata": {
        "id": "qpmac0z5VTHr"
      },
      "source": [
        "train_feature = []\n",
        "test_feature=[]\n",
        "\n",
        "\n",
        "for i in range(train_data.shape[0]):\n",
        "  x = []\n",
        "  for j in range(26*26):\n",
        "    x.append(0)\n",
        "  z = len(train_data.iloc[i][0])\n",
        "  for j in range(z-1):\n",
        "    y = (ord(train_data.iloc[i][0][j])-65)\n",
        "    p = (ord(train_data.iloc[i][0][j+1])-65)\n",
        "    pos = ((y)*26) + p\n",
        "\n",
        "    x[pos]=x[pos]+1\n",
        "\n",
        "  for j in range(26*26):\n",
        "    x[j]=x[j]/z\n",
        "  \n",
        "  train_feature.append(x)\n",
        "\n",
        "\n",
        "for i in range(test_data.shape[0]):\n",
        "  x = []\n",
        "  for j in range(26*26):\n",
        "    x.append(0)\n",
        "  z = len(test_data.iloc[i][1])\n",
        "  for j in range(z-1):\n",
        "    y = (ord(test_data.iloc[i][1][j])-65)\n",
        "    p = (ord(test_data.iloc[i][1][j+1])-65)\n",
        "    pos = ((y)*26)+p\n",
        "\n",
        "    x[pos]=x[pos]+1\n",
        "  for j in range(26*26):\n",
        "    x[j]=x[j]/z\n",
        "  \n",
        "  test_feature.append(x)\n",
        "  \n",
        "test_feature = pd.DataFrame(test_feature)\n",
        "train_feature = pd.DataFrame(train_feature)"
      ],
      "execution_count": null,
      "outputs": []
    },
    {
      "cell_type": "code",
      "metadata": {
        "id": "rJbQN2gBctYb"
      },
      "source": [
        "test_feature1 = []\n",
        "test_feature1 = pd.DataFrame(test_feature1)\n",
        "train_feature1 = []\n",
        "train_feature1 = pd.DataFrame(train_feature1)\n"
      ],
      "execution_count": null,
      "outputs": []
    },
    {
      "cell_type": "code",
      "metadata": {
        "id": "7WHUzgPyhlyn"
      },
      "source": [
        "import pandas as pd\n",
        "test_feature1 = test_feature[0]\n",
        "train_feature1 = train_feature[0]\n",
        "\n",
        "for i in range(1,26*26):\n",
        "  if((i in notadd) == False):\n",
        "    test_feature1 = pd.concat([test_feature1,test_feature[i]],axis=1)\n",
        "    train_feature1 = pd.concat([train_feature1,train_feature[i]],axis=1)"
      ],
      "execution_count": null,
      "outputs": []
    },
    {
      "cell_type": "code",
      "metadata": {
        "id": "-INgMXJtlec-"
      },
      "source": [
        "test_feature1 = pd.concat([test_feature1,test_feature2020],axis=1)\n",
        "train_feature1 = pd.concat([train_feature1,train_feature2020],axis=1)"
      ],
      "execution_count": null,
      "outputs": []
    },
    {
      "cell_type": "code",
      "metadata": {
        "colab": {
          "base_uri": "https://localhost:8080/",
          "height": 423
        },
        "id": "OzR583kQeUi1",
        "outputId": "a962fdd8-c975-40b6-e92e-475a7316c0f9"
      },
      "source": [
        "train_data"
      ],
      "execution_count": null,
      "outputs": [
        {
          "output_type": "execute_result",
          "data": {
            "text/html": [
              "<div>\n",
              "<style scoped>\n",
              "    .dataframe tbody tr th:only-of-type {\n",
              "        vertical-align: middle;\n",
              "    }\n",
              "\n",
              "    .dataframe tbody tr th {\n",
              "        vertical-align: top;\n",
              "    }\n",
              "\n",
              "    .dataframe thead th {\n",
              "        text-align: right;\n",
              "    }\n",
              "</style>\n",
              "<table border=\"1\" class=\"dataframe\">\n",
              "  <thead>\n",
              "    <tr style=\"text-align: right;\">\n",
              "      <th></th>\n",
              "      <th>Sequence</th>\n",
              "      <th>Label</th>\n",
              "    </tr>\n",
              "  </thead>\n",
              "  <tbody>\n",
              "    <tr>\n",
              "      <th>0</th>\n",
              "      <td>AAAFVNQHLCGSHLVEAL</td>\n",
              "      <td>0</td>\n",
              "    </tr>\n",
              "    <tr>\n",
              "      <th>1</th>\n",
              "      <td>AAAKEAEAHEEI</td>\n",
              "      <td>1</td>\n",
              "    </tr>\n",
              "    <tr>\n",
              "      <th>2</th>\n",
              "      <td>AAALPGQPESPDIPG</td>\n",
              "      <td>1</td>\n",
              "    </tr>\n",
              "    <tr>\n",
              "      <th>3</th>\n",
              "      <td>AAALPGQPPDIPG</td>\n",
              "      <td>1</td>\n",
              "    </tr>\n",
              "    <tr>\n",
              "      <th>4</th>\n",
              "      <td>AACFKEGSFDEDGFYAKV</td>\n",
              "      <td>0</td>\n",
              "    </tr>\n",
              "    <tr>\n",
              "      <th>...</th>\n",
              "      <td>...</td>\n",
              "      <td>...</td>\n",
              "    </tr>\n",
              "    <tr>\n",
              "      <th>6388</th>\n",
              "      <td>YYLFEGFYFLQS</td>\n",
              "      <td>1</td>\n",
              "    </tr>\n",
              "    <tr>\n",
              "      <th>6389</th>\n",
              "      <td>YYLMDLSYSMKDDLWSI</td>\n",
              "      <td>1</td>\n",
              "    </tr>\n",
              "    <tr>\n",
              "      <th>6390</th>\n",
              "      <td>YYRKQLSPLEGGGWLVASG</td>\n",
              "      <td>0</td>\n",
              "    </tr>\n",
              "    <tr>\n",
              "      <th>6391</th>\n",
              "      <td>YYSLVTFGQGT</td>\n",
              "      <td>0</td>\n",
              "    </tr>\n",
              "    <tr>\n",
              "      <th>6392</th>\n",
              "      <td>YYSTPIEYFNKYSNGNKSVWCQANN</td>\n",
              "      <td>1</td>\n",
              "    </tr>\n",
              "  </tbody>\n",
              "</table>\n",
              "<p>6393 rows × 2 columns</p>\n",
              "</div>"
            ],
            "text/plain": [
              "                       Sequence   Label\n",
              "0            AAAFVNQHLCGSHLVEAL       0\n",
              "1                  AAAKEAEAHEEI       1\n",
              "2               AAALPGQPESPDIPG       1\n",
              "3                 AAALPGQPPDIPG       1\n",
              "4            AACFKEGSFDEDGFYAKV       0\n",
              "...                         ...     ...\n",
              "6388               YYLFEGFYFLQS       1\n",
              "6389          YYLMDLSYSMKDDLWSI       1\n",
              "6390        YYRKQLSPLEGGGWLVASG       0\n",
              "6391                YYSLVTFGQGT       0\n",
              "6392  YYSTPIEYFNKYSNGNKSVWCQANN       1\n",
              "\n",
              "[6393 rows x 2 columns]"
            ]
          },
          "metadata": {},
          "execution_count": 34
        }
      ]
    },
    {
      "cell_type": "code",
      "metadata": {
        "id": "Q_fCo7PWbSb3"
      },
      "source": [
        "\n",
        "from sklearn.ensemble import BaggingClassifier\n",
        "i=0\n",
        "y_final=[]\n",
        "from sklearn.svm import SVC\n",
        "from sklearn.pipeline import make_pipeline\n",
        "from sklearn.preprocessing import StandardScaler\n",
        "from sklearn.ensemble import StackingClassifier\n",
        "from sklearn.linear_model import LogisticRegression\n",
        "# from sklearn.ensemble import RandomForestClassifier\n",
        "\n",
        "while(i!=1):\n",
        "  from sklearn import metrics\n",
        "  from sklearn.ensemble import RandomForestClassifier\n",
        "  # gnb = BaggingClassifier(base_estimator =RandomForestClassifier(max_depth=60, random_state=42,max_features='sqrt',n_estimators = 1200) , n_estimators = 10)\n",
        "  \n",
        "  gnb = RandomForestClassifier(max_depth=60, random_state=83,max_features='sqrt',n_estimators = 2000)\n",
        "  gnb.fit(train_feature1,train_label)\n",
        "  y_pred = gnb.predict_proba(test_feature1)\n",
        "   \n",
        "  y_final.append(y_pred)\n",
        "  i+=1\n"
      ],
      "execution_count": null,
      "outputs": []
    },
    {
      "cell_type": "code",
      "metadata": {
        "id": "A8ZcvCnGbpKm"
      },
      "source": [
        "ans=[]\n",
        "for i in range(1598):\n",
        "  ct =0\n",
        "  for j in range(1):\n",
        "    ct+=y_final[j][i][1]\n",
        "  avg = ct/1\n",
        "  ans.append(avg) \n"
      ],
      "execution_count": null,
      "outputs": []
    },
    {
      "cell_type": "code",
      "metadata": {
        "colab": {
          "base_uri": "https://localhost:8080/",
          "height": 423
        },
        "id": "yBWPjoG-bts6",
        "outputId": "82d683dc-125f-4c7b-ba31-2e09c279f2ff"
      },
      "source": [
        "import pandas as pd\n",
        "df = pd.DataFrame(ans)\n",
        "df.columns = ['label']\n",
        "ID = np.arange(1598) + 10001\n",
        "ID = pd.DataFrame(ID)\n",
        "ID.columns = ['ID']\n",
        "final_data = pd.concat([ID, df], axis=1)\n",
        "final_data.to_csv('Submission.csv', index=False)\n",
        "final_data"
      ],
      "execution_count": null,
      "outputs": [
        {
          "output_type": "execute_result",
          "data": {
            "text/html": [
              "<div>\n",
              "<style scoped>\n",
              "    .dataframe tbody tr th:only-of-type {\n",
              "        vertical-align: middle;\n",
              "    }\n",
              "\n",
              "    .dataframe tbody tr th {\n",
              "        vertical-align: top;\n",
              "    }\n",
              "\n",
              "    .dataframe thead th {\n",
              "        text-align: right;\n",
              "    }\n",
              "</style>\n",
              "<table border=\"1\" class=\"dataframe\">\n",
              "  <thead>\n",
              "    <tr style=\"text-align: right;\">\n",
              "      <th></th>\n",
              "      <th>ID</th>\n",
              "      <th>label</th>\n",
              "    </tr>\n",
              "  </thead>\n",
              "  <tbody>\n",
              "    <tr>\n",
              "      <th>0</th>\n",
              "      <td>10001</td>\n",
              "      <td>0.492438</td>\n",
              "    </tr>\n",
              "    <tr>\n",
              "      <th>1</th>\n",
              "      <td>10002</td>\n",
              "      <td>0.291093</td>\n",
              "    </tr>\n",
              "    <tr>\n",
              "      <th>2</th>\n",
              "      <td>10003</td>\n",
              "      <td>0.493040</td>\n",
              "    </tr>\n",
              "    <tr>\n",
              "      <th>3</th>\n",
              "      <td>10004</td>\n",
              "      <td>0.350765</td>\n",
              "    </tr>\n",
              "    <tr>\n",
              "      <th>4</th>\n",
              "      <td>10005</td>\n",
              "      <td>0.470018</td>\n",
              "    </tr>\n",
              "    <tr>\n",
              "      <th>...</th>\n",
              "      <td>...</td>\n",
              "      <td>...</td>\n",
              "    </tr>\n",
              "    <tr>\n",
              "      <th>1593</th>\n",
              "      <td>11594</td>\n",
              "      <td>0.405885</td>\n",
              "    </tr>\n",
              "    <tr>\n",
              "      <th>1594</th>\n",
              "      <td>11595</td>\n",
              "      <td>0.645000</td>\n",
              "    </tr>\n",
              "    <tr>\n",
              "      <th>1595</th>\n",
              "      <td>11596</td>\n",
              "      <td>0.787478</td>\n",
              "    </tr>\n",
              "    <tr>\n",
              "      <th>1596</th>\n",
              "      <td>11597</td>\n",
              "      <td>0.681089</td>\n",
              "    </tr>\n",
              "    <tr>\n",
              "      <th>1597</th>\n",
              "      <td>11598</td>\n",
              "      <td>0.714497</td>\n",
              "    </tr>\n",
              "  </tbody>\n",
              "</table>\n",
              "<p>1598 rows × 2 columns</p>\n",
              "</div>"
            ],
            "text/plain": [
              "         ID     label\n",
              "0     10001  0.492438\n",
              "1     10002  0.291093\n",
              "2     10003  0.493040\n",
              "3     10004  0.350765\n",
              "4     10005  0.470018\n",
              "...     ...       ...\n",
              "1593  11594  0.405885\n",
              "1594  11595  0.645000\n",
              "1595  11596  0.787478\n",
              "1596  11597  0.681089\n",
              "1597  11598  0.714497\n",
              "\n",
              "[1598 rows x 2 columns]"
            ]
          },
          "metadata": {},
          "execution_count": 33
        }
      ]
    }
  ]
}